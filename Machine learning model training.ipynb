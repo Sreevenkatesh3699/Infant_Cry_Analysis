{
 "cells": [
  {
   "cell_type": "markdown",
   "metadata": {},
   "source": [
    "## Importing the modules"
   ]
  },
  {
   "cell_type": "code",
   "execution_count": 41,
   "metadata": {},
   "outputs": [],
   "source": [
    "import librosa.display\n",
    "import numpy as np\n",
    "import random\n",
    "import pickle\n",
    "import audiomentations as A\n",
    "import soundfile as sf\n",
    "import os\n",
    "import librosa\n",
    "from sklearn.tree import DecisionTreeClassifier\n",
    "from sklearn.ensemble import RandomForestClassifier\n",
    "from sklearn.ensemble import GradientBoostingClassifier\n",
    "from sklearn.svm import SVC\n",
    "from sklearn.model_selection import train_test_split\n",
    "from sklearn.metrics import accuracy_score"
   ]
  },
  {
   "cell_type": "markdown",
   "metadata": {},
   "source": [
    "## Data augmentation, Data pre-processing & Data Normalization"
   ]
  },
  {
   "cell_type": "code",
   "execution_count": 42,
   "metadata": {},
   "outputs": [],
   "source": [
    "# Load X and y from pickle files\n",
    "with open('x.pkl', 'rb') as file:\n",
    "    X = pickle.load(file)\n",
    "\n",
    "with open('y.pkl', 'rb') as file:\n",
    "    y = pickle.load(file)"
   ]
  },
  {
   "cell_type": "markdown",
   "metadata": {},
   "source": []
  },
  {
   "cell_type": "markdown",
   "metadata": {},
   "source": [
    "## Data sampling"
   ]
  },
  {
   "cell_type": "code",
   "execution_count": 43,
   "metadata": {},
   "outputs": [],
   "source": [
    "X_train, X_test, y_train, y_test = train_test_split(X,y, test_size=0.1, random_state=42)"
   ]
  },
  {
   "cell_type": "markdown",
   "metadata": {},
   "source": [
    "## Model training"
   ]
  },
  {
   "cell_type": "markdown",
   "metadata": {},
   "source": [
    "## Decision tree"
   ]
  },
  {
   "cell_type": "code",
   "execution_count": 44,
   "metadata": {},
   "outputs": [
    {
     "name": "stdout",
     "output_type": "stream",
     "text": [
      "Accuracy score of Decision tree: 65.85365853658537 %\n"
     ]
    }
   ],
   "source": [
    "dt = DecisionTreeClassifier(max_depth=5)\n",
    "dt.fit(X_train,y_train)\n",
    "dt_pred = dt.predict(X_test)\n",
    "print(\"Accuracy score of Decision tree:\",accuracy_score(y_test,dt_pred)*100,\"%\")"
   ]
  },
  {
   "cell_type": "markdown",
   "metadata": {},
   "source": [
    "## Random forest classifier"
   ]
  },
  {
   "cell_type": "code",
   "execution_count": 45,
   "metadata": {},
   "outputs": [
    {
     "name": "stdout",
     "output_type": "stream",
     "text": [
      "Accuracy score of Random Forest: 82.92682926829268 %\n"
     ]
    }
   ],
   "source": [
    "rfc = RandomForestClassifier(random_state=32)\n",
    "rfc.fit(X_train,y_train)\n",
    "rfc_pred = rfc.predict(X_test)\n",
    "print(\"Accuracy score of Random Forest:\",accuracy_score(y_test,rfc_pred)*100,\"%\")"
   ]
  },
  {
   "cell_type": "markdown",
   "metadata": {},
   "source": [
    "## Gradient Boosting"
   ]
  },
  {
   "cell_type": "code",
   "execution_count": 46,
   "metadata": {},
   "outputs": [
    {
     "name": "stdout",
     "output_type": "stream",
     "text": [
      "Accuracy score of Gradient Boosting: 80.48780487804879 %\n"
     ]
    }
   ],
   "source": [
    "gb = GradientBoostingClassifier()\n",
    "gb.fit(X_train,y_train)\n",
    "gb_pred = gb.predict(X_test)\n",
    "print(\"Accuracy score of Gradient Boosting:\",accuracy_score(y_test,gb_pred)*100,\"%\")"
   ]
  },
  {
   "cell_type": "markdown",
   "metadata": {},
   "source": [
    "## Support vector machine"
   ]
  },
  {
   "cell_type": "code",
   "execution_count": 47,
   "metadata": {},
   "outputs": [
    {
     "name": "stdout",
     "output_type": "stream",
     "text": [
      "Accuracy score of SVC: 39.02439024390244 %\n"
     ]
    }
   ],
   "source": [
    "svm = SVC()\n",
    "svm.fit(X_train,y_train)\n",
    "svm_pred = svm.predict(X_test)\n",
    "print(\"Accuracy score of SVC:\",accuracy_score(y_test,svm_pred)*100,\"%\")"
   ]
  },
  {
   "cell_type": "markdown",
   "metadata": {},
   "source": [
    "## Saving the best model"
   ]
  },
  {
   "cell_type": "code",
   "execution_count": 48,
   "metadata": {},
   "outputs": [],
   "source": [
    "with open('GBmodel_pkl' , 'wb') as f:\n",
    "    pickle.dump(gb,f)"
   ]
  },
  {
   "cell_type": "markdown",
   "metadata": {},
   "source": [
    "## Loading saved model"
   ]
  },
  {
   "cell_type": "code",
   "execution_count": 49,
   "metadata": {},
   "outputs": [],
   "source": [
    "with open('GBmodel_pkl' , 'rb') as f:\n",
    "    GB = pickle.load(f)"
   ]
  },
  {
   "cell_type": "markdown",
   "metadata": {},
   "source": [
    "## Preprocessing of testing audio file"
   ]
  },
  {
   "cell_type": "code",
   "execution_count": 50,
   "metadata": {},
   "outputs": [],
   "source": [
    "def Test_preprocess_audio(audio_file):\n",
    "        num_mfcc_coefficients = 13\n",
    "        \n",
    "        Test_preprocess_data = []\n",
    "        original_audio, sr = sf.read(audio_file)\n",
    "\n",
    "        # Apply augmentation to create augmented audio\n",
    "        augment1 = A.AddGaussianNoise(p=0.2)\n",
    "        augment2 = A.TimeStretch(p=0.2)\n",
    "        augment3 = A.PitchShift(p=0.2)\n",
    "        augment4 = A.Shift(p=0.2)\n",
    "        augment5 = A.TimeMask(p=0.2)\n",
    "\n",
    "        augmented_audio1 = augment1(samples=original_audio, sample_rate=sr)\n",
    "        augmented_audio2 = augment2(samples=original_audio, sample_rate=sr)\n",
    "        augmented_audio3 = augment3(samples=original_audio, sample_rate=sr)\n",
    "        augmented_audio4 = augment4(samples=original_audio, sample_rate=sr)\n",
    "        augmented_audio5 = augment5(samples=original_audio, sample_rate=sr)\n",
    "\n",
    "        # Perform feature extraction (e.g., MFCCs) on original and augmented audio\n",
    "        for audio in [original_audio, augmented_audio1, augmented_audio2, augmented_audio3, augmented_audio4, augmented_audio5]:\n",
    "            mfccs = librosa.feature.mfcc(y=audio, sr=sr, n_mfcc=num_mfcc_coefficients)\n",
    "\n",
    "            # Normalize the MFCCs (optional but recommended)\n",
    "            # mfccs = (mfccs - np.mean(mfccs)) / np.std(mfccs)\n",
    "\n",
    "            # # Reshape or pad the MFCCs to match the desired input shape\n",
    "            # num_frames = mfccs.shape[1]\n",
    "            # if num_frames < desired_shape[0]:\n",
    "            #     mfccs = np.pad(mfccs, ((0, 0), (0, desired_shape[0] - num_frames)), mode='constant')\n",
    "            # elif num_frames > desired_shape[0]:\n",
    "            #     mfccs = mfccs[:, :desired_shape[0]]\n",
    "\n",
    "            # Append the preprocessed data and label\n",
    "            Test_preprocess_data.append(mfccs.T)  # Transpose the data\n",
    "            \n",
    "        # Stack the preprocessed data into a 3D array\n",
    "        X = np.array(Test_preprocess_data).reshape(-1,13)\n",
    "\n",
    "        return X"
   ]
  },
  {
   "cell_type": "markdown",
   "metadata": {},
   "source": [
    "## Predicting the audio label"
   ]
  },
  {
   "cell_type": "code",
   "execution_count": 51,
   "metadata": {},
   "outputs": [],
   "source": [
    "##['belly_pain', 'burping', 'discomfort', 'hungry', 'tired']\n",
    "def Predict_Label(audio_file):\n",
    "    processed_data = (Test_preprocess_audio(audio_file))\n",
    "    y_pred=GB.predict(processed_data)\n",
    "    y_pred = np.argmax(y_pred)\n",
    "    print(y_pred)\n",
    "    # y_pred = int(np.median(y_pred))\n",
    "    # print(y_pred)\n",
    "    if y_pred == 0:\n",
    "        print('belly_pain')\n",
    "    if y_pred == 1:\n",
    "        print('burping')\n",
    "    if y_pred == 2:\n",
    "        print('discomfort')\n",
    "    if y_pred == 3:\n",
    "        print('hungry')\n",
    "    if y_pred == 4:\n",
    "        print('tired')"
   ]
  },
  {
   "cell_type": "code",
   "execution_count": 52,
   "metadata": {},
   "outputs": [
    {
     "name": "stdout",
     "output_type": "stream",
     "text": [
      "40\n"
     ]
    },
    {
     "name": "stderr",
     "output_type": "stream",
     "text": [
      "c:\\Users\\chada\\AppData\\Local\\Programs\\Python\\Python39\\lib\\site-packages\\audiomentations\\core\\transforms_interface.py:61: UserWarning: Warning: input samples dtype is np.float64. Converting to np.float32\n",
      "  warnings.warn(\n"
     ]
    }
   ],
   "source": [
    "Predict_Label(\"donateacry/tired/7A22229D-06C2-4AAA-9674-DE5DF1906B3A-1436891957-1.1-m-72-ti.wav\")"
   ]
  },
  {
   "cell_type": "code",
   "execution_count": 53,
   "metadata": {},
   "outputs": [
    {
     "name": "stdout",
     "output_type": "stream",
     "text": [
      "0\n",
      "belly_pain\n"
     ]
    },
    {
     "name": "stderr",
     "output_type": "stream",
     "text": [
      "c:\\Users\\chada\\AppData\\Local\\Programs\\Python\\Python39\\lib\\site-packages\\audiomentations\\core\\transforms_interface.py:61: UserWarning: Warning: input samples dtype is np.float64. Converting to np.float32\n",
      "  warnings.warn(\n"
     ]
    }
   ],
   "source": [
    "Predict_Label(\"donateacry/hungry/0D1AD73E-4C5E-45F3-85C4-9A3CB71E8856-1430742197-1.0-m-04-hu.wav\")"
   ]
  },
  {
   "cell_type": "code",
   "execution_count": 54,
   "metadata": {},
   "outputs": [
    {
     "name": "stdout",
     "output_type": "stream",
     "text": [
      "0\n",
      "belly_pain\n"
     ]
    },
    {
     "name": "stderr",
     "output_type": "stream",
     "text": [
      "c:\\Users\\chada\\AppData\\Local\\Programs\\Python\\Python39\\lib\\site-packages\\audiomentations\\core\\transforms_interface.py:61: UserWarning: Warning: input samples dtype is np.float64. Converting to np.float32\n",
      "  warnings.warn(\n"
     ]
    }
   ],
   "source": [
    "Predict_Label(\"donateacry/belly_pain/643D64AD-B711-469A-AF69-55C0D5D3E30F-1430138506-1.0-m-72-bp.wav\")"
   ]
  }
 ],
 "metadata": {
  "kernelspec": {
   "display_name": "Python 3",
   "language": "python",
   "name": "python3"
  },
  "language_info": {
   "codemirror_mode": {
    "name": "ipython",
    "version": 3
   },
   "file_extension": ".py",
   "mimetype": "text/x-python",
   "name": "python",
   "nbconvert_exporter": "python",
   "pygments_lexer": "ipython3",
   "version": "3.9.0"
  },
  "orig_nbformat": 4
 },
 "nbformat": 4,
 "nbformat_minor": 2
}
